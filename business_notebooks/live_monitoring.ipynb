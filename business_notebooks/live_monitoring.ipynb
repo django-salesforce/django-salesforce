{
 "metadata": {
  "language_info": {
   "codemirror_mode": {
    "name": "ipython",
    "version": 3
   },
   "file_extension": ".py",
   "mimetype": "text/x-python",
   "name": "python",
   "nbconvert_exporter": "python",
   "pygments_lexer": "ipython3",
   "version": "3.6.8"
  },
  "orig_nbformat": 2,
  "kernelspec": {
   "name": "pythonjvsc74a57bd0bdbf6299f768b1cfd36751a62154d74cad2ba7d1c17c15600fdf1b9c1e458aa5",
   "display_name": "Python 3.6.8  ('env': venv)"
  },
  "metadata": {
   "interpreter": {
    "hash": "bdbf6299f768b1cfd36751a62154d74cad2ba7d1c17c15600fdf1b9c1e458aa5"
   }
  }
 },
 "nbformat": 4,
 "nbformat_minor": 2,
 "cells": [
  {
   "cell_type": "code",
   "execution_count": 4,
   "metadata": {},
   "outputs": [],
   "source": [
    "import django_initializer\n",
    "from django.contrib.auth.models import User"
   ]
  }
 ]
}