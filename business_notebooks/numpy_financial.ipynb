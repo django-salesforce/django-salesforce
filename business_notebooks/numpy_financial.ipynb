{
 "cells": [
  {
   "cell_type": "markdown",
   "metadata": {},
   "source": [
    "# Numpy Financial\n",
    "*Outlines a sleek python package for conducting financial analysis*\n",
    "[numpy-financial 1.0.0](https://www.example.com)\n",
    "\n",
    "This is going to outline how we can do financial accounting with python. Python allows us to do a lot more than the traditional way of using excel. We can build this data back into our software applications and webpages using python. Python is the \"backend\" programming language for many major companies / websites.\n",
    "\n",
    "![](https://images.squarespace-cdn.com/content/v1/55aed2d3e4b02de83b586b0a/1514837863854-T3R3V8JPLGMF5OTFL38M/ke17ZwdGBToddI8pDm48kLR4HjMe16aCHIVcvgOZ31EUqsxRUqqbr1mOJYKfIPR7LoDQ9mXPOjoJoqy81S2I8N_N4V1vUb5AoIIIbLZhVYxCRW4BPu10St3TBAUQYVKcMZfVDM3pZOlP1hLv09trMZvJLJu3bjM6essiIMkL10uBHc6mzswZt8Q6_XEwuqt1/Accounting.jpg?format=2500w)\n",
    "\n",
    "I am taking my notes on the package using a jupyter notebook, which gives us an environment to write markdown and python through blocks of code. It is a very flexible piece of technology that should be encouraged / used. "
   ]
  },
  {
   "cell_type": "code",
   "execution_count": 2,
   "metadata": {},
   "outputs": [],
   "source": [
    "# lets us run the notebook from within our django project\n",
    "import django_initializer"
   ]
  },
  {
   "cell_type": "markdown",
   "metadata": {},
   "source": [
    "## Future value\n",
    "This first function will allow us to compute the future value for a given asset. This is normally used by investors and financial planners to estimate how much an investment made today will be worth in the future. Using and learning python is great because I am going to show you why investing your time in learning python is way more important than trying to hack all of your processes together in microsoft office products."
   ]
  },
  {
   "cell_type": "code",
   "execution_count": 4,
   "metadata": {},
   "outputs": [],
   "source": [
    "import numpy as np\n",
    "import numpy_financial as npf"
   ]
  },
  {
   "cell_type": "markdown",
   "metadata": {},
   "source": [
    "What is the future value after 10 years of saving 100 dollars now, with an additional monthly savings of $100? Assume the interest rate is 5% (annually) compounded monthly."
   ]
  },
  {
   "cell_type": "code",
   "execution_count": 5,
   "metadata": {},
   "outputs": [
    {
     "data": {
      "text/plain": [
       "15692.928894335748"
      ]
     },
     "execution_count": 5,
     "metadata": {},
     "output_type": "execute_result"
    }
   ],
   "source": [
    "npf.fv(0.05/12, 10*12, -100, -100)"
   ]
  },
  {
   "cell_type": "markdown",
   "metadata": {},
   "source": [
    "By convention, the negative sign represents cash flow out (i.e. money not available today). Thus, saving $100 a month at 5% annual interest leads to $15,692.93 available to spend in 10 years.\n",
    "\n",
    "Let’s compare different interest rates from the example above. We can pass the function for future value an array that will calculate each value we give it and then return back an array with the answer for each value that was fed. "
   ]
  },
  {
   "cell_type": "code",
   "execution_count": 7,
   "metadata": {},
   "outputs": [
    {
     "data": {
      "text/plain": [
       "array([15692.92889434, 16569.87435405, 17509.44688102])"
      ]
     },
     "execution_count": 7,
     "metadata": {},
     "output_type": "execute_result"
    }
   ],
   "source": [
    "\"\"\"\n",
    "Here we are comparing what the future value is for 5%, 6%, or 7% interest rates on the same savings amount of $100 down, then an additional $100 per month invested.\n",
    "\"\"\"\n",
    "a = np.array((0.05, 0.06, 0.07))/12\n",
    "npf.fv(a, 10*12, -100, -100)"
   ]
  },
  {
   "cell_type": "markdown",
   "metadata": {},
   "source": [
    "Future value (FV) is the value of a current asset at some point in the future based on an assumed growth rate.\n",
    "Investors are able to reasonably assume an investment's profit using the future value (FV) calculation.\n",
    "Determining the future value (FV) of a market investment can be challenging because of the market's volatility.\n",
    "There are two ways of calculating the future value (FV) of an asset: FV using simple interest and FV using compound interest.\n",
    "\n",
    "​\t  \n",
    "FV=I×(1+(R×T))\n",
    "\n",
    "WHERE:\n",
    "\n",
    "I = Investment amount\n",
    "R = Interest rate\n",
    "T = Number of years\n",
    "\n",
    "FV=I×(1+R^T)\n",
    "\n",
    "WHERE:\n",
    "\n",
    "I = Investment amount\n",
    "R = Interest rate\n",
    "T = Number of years\n",
    "​\t"
   ]
  },
  {
   "cell_type": "markdown",
   "metadata": {},
   "source": [
    "## Interest of a given payment\n",
    "\n",
    "This allows us to calculate amortization and generate a scheduler for paying off a specific loan.\n"
   ]
  },
  {
   "cell_type": "code",
   "execution_count": 8,
   "metadata": {},
   "outputs": [
    {
     "data": {
      "text/plain": [
       "True"
      ]
     },
     "execution_count": 8,
     "metadata": {},
     "output_type": "execute_result"
    }
   ],
   "source": [
    "# ------------------------------- #\n",
    "# imports \n",
    "# ------------------------------- #\n",
    "\n",
    "import numpy as np\n",
    "import numpy_financial as npf\n",
    "\n",
    "\"\"\"\n",
    "question: what is the amortization schedule for a 1 year loan of $2500 at 8.24% interest per year compunded?\n",
    "\"\"\"\n",
    "\n",
    "# setting a principal payment\n",
    "principal = 2500.00\n",
    "\n",
    "# setting a period (+ 1 because in finance arrays index at 1)\n",
    "per = np.arange(1*12) + 1\n",
    "\n",
    "# ipmt and ppmt are types of payment, interest vs principal\n",
    "ipmt = npf.ipmt(0.0824/12, per, 1*12, principal)\n",
    "ppmt = npf.ppmt(0.0824/12, per, 1*12, principal)\n",
    "\n",
    "# each element of the sum of ipmt and ppmt equal the total payment\n",
    "pmt = npf.pmt(0.0824/12, 1*12, principal)\n",
    "np.allclose(ipmt + ppmt, pmt)"
   ]
  },
  {
   "cell_type": "code",
   "execution_count": 9,
   "metadata": {},
   "outputs": [
    {
     "name": "stdout",
     "output_type": "stream",
     "text": [
      " 1  -200.58   -17.17  2299.42\n",
      " 2  -201.96   -15.79  2097.46\n",
      " 3  -203.35   -14.40  1894.11\n",
      " 4  -204.74   -13.01  1689.37\n",
      " 5  -206.15   -11.60  1483.22\n",
      " 6  -207.56   -10.18  1275.66\n",
      " 7  -208.99    -8.76  1066.67\n",
      " 8  -210.42    -7.32   856.25\n",
      " 9  -211.87    -5.88   644.38\n",
      "10  -213.32    -4.42   431.05\n",
      "11  -214.79    -2.96   216.26\n",
      "12  -216.26    -1.49    -0.00\n"
     ]
    }
   ],
   "source": [
    "# string formatting for displaying an amortization schedule\n",
    "fmt = fmt = '{0:2d} {1:8.2f} {2:8.2f} {3:8.2f}'\n",
    "for payment in per:\n",
    "    index = payment - 1\n",
    "    principal = principal + ppmt[index]\n",
    "    print(fmt.format(payment, ppmt[index], ipmt[index], principal))"
   ]
  },
  {
   "cell_type": "code",
   "execution_count": 10,
   "metadata": {},
   "outputs": [
    {
     "data": {
      "text/plain": [
       "-112.98"
      ]
     },
     "execution_count": 10,
     "metadata": {},
     "output_type": "execute_result"
    }
   ],
   "source": [
    "# carve off just the interest payments\n",
    "interestpd = np.sum(ipmt)\n",
    "np.round(interestpd, 2)"
   ]
  },
  {
   "cell_type": "markdown",
   "metadata": {},
   "source": [
    "## Internal Rate of Return\n",
    "\n",
    "The internal rate of return is a discount rate that makes the net present value of all cash flows equal to zero in a discounted cash flow analysis. We use it to estimate the profitibility of potential investments.\n",
    "\n",
    "- Internal rate of return (IRR) is the annual rate of growth an investment is expected to generate.\n",
    "\n",
    "- IRR is calculated using the same concept as NPV, except it sets the NPV equal to zero.\n",
    "\n",
    "- IRR is ideal for analyzing capital budgeting projects to understand and compare potential rates of annual return over time.\n",
    "\n",
    "The \"average\" periodically compounded rate of return that gives a net present value of 0.0\n",
    "\n",
    "Suppose you invest 100 units and then make the following withdrawals at regular (fixed) intervals: 39, 59, 55, 20. Assuming the ending value is 0, one's 100 unit investment yields 173 units; however, due to the combination of compounding and the periodic withdrawals, the \"average\" rate of return is neither simply 0.73/4 nor (1.73)^0.25-1. \n",
    "\n"
   ]
  },
  {
   "cell_type": "code",
   "execution_count": 7,
   "metadata": {},
   "outputs": [
    {
     "name": "stdout",
     "output_type": "stream",
     "text": [
      "0.28095\n",
      "-0.0955\n",
      "-0.0833\n",
      "0.06206\n",
      "0.0886\n"
     ]
    }
   ],
   "source": [
    "# ------------------------------- #\n",
    "# imports \n",
    "# ------------------------------- #\n",
    "\n",
    "import numpy_financial as npf\n",
    "\n",
    "\"\"\"\n",
    "examples of how to calculate internal rate of return, the first element in the array is our investment ($100 = -100), the next are the payments. \n",
    "\n",
    "values --> array_like, shape(N,):\n",
    "-- Input cash flows per time period. By convention, net “deposits” are negative and net “withdrawals” are positive. Thus, for example, at least the first element of values, which represents the initial investment, will typically be negative.\n",
    "\n",
    "out --> float\n",
    "Internal Rate of Return for periodic input values.\n",
    "\"\"\"\n",
    "\n",
    "print(round(npf.irr([-100, 39, 59, 55, 20]), 5))\n",
    "print(round(npf.irr([-100, 0, 0, 74]), 5))\n",
    "print(round(npf.irr([-100, 100, 0, -7]), 5))\n",
    "print(round(npf.irr([-100, 100, 0, 7]), 5))\n",
    "print(round(npf.irr([-5, 10.5, 1, -8, 1]), 5))"
   ]
  },
  {
   "cell_type": "code",
   "execution_count": 11,
   "metadata": {},
   "outputs": [
    {
     "data": {
      "text/plain": [
       "-0.2742274708267268"
      ]
     },
     "execution_count": 11,
     "metadata": {},
     "output_type": "execute_result"
    }
   ],
   "source": [
    "\"\"\"\n",
    "we can also calculate a modified internal rate of return with numpy. This will take in the array, just like the previous calculation for irr, but then will take a finance rate and a reinvest rate as parameters too.\n",
    "\n",
    "finance rate: interest paid on the cash flows\n",
    "reinvest rate: interest rate recieved on the cash flows upon reinvestment\n",
    "\"\"\"\n",
    "\n",
    "npf.mirr([-1000, 100, 50, 10, 15], .34, .21)"
   ]
  },
  {
   "cell_type": "markdown",
   "metadata": {},
   "source": [
    "## Periodic Payments\n",
    "We can calculate the number of periods it takes pay off a given loan as well. This is solved by this equation: \n",
    "- fv + pv*(1+rate)**nper + pmt*(1+rate*when)/rate*((1+rate)**nper-1) = 0\n",
    "\n",
    "If rate = 0 then:\n",
    "- fv + pv*(1+rate)**nper + pmt*(1+rate*when)/rate*((1+rate)**nper-1) = 0\n"
   ]
  },
  {
   "cell_type": "code",
   "execution_count": 12,
   "metadata": {},
   "outputs": [
    {
     "name": "stdout",
     "output_type": "stream",
     "text": [
      "64.07335\n"
     ]
    }
   ],
   "source": [
    "# ------------------------------- #\n",
    "# imports \n",
    "# ------------------------------- #\n",
    "\n",
    "import numpy as np\n",
    "import numpy_financial as npf\n",
    "\n",
    "\"\"\"\n",
    "question: if you only had $150/mo to pay towards the loan, how long would it take to pay-off a loan of $8,000 at 7% annual interest?\n",
    "\"\"\"\n",
    "\n",
    "print(np.round(npf.nper(0.07/12, -150, 8000), 5))\n"
   ]
  },
  {
   "cell_type": "code",
   "execution_count": 14,
   "metadata": {},
   "outputs": [
    {
     "data": {
      "text/plain": [
       "array([[[ 64.07334877,  74.06368256],\n",
       "        [108.07548412, 127.99022654]],\n",
       "\n",
       "       [[ 66.12443902,  76.87897353],\n",
       "        [114.70165583, 137.90124779]]])"
      ]
     },
     "execution_count": 14,
     "metadata": {},
     "output_type": "execute_result"
    }
   ],
   "source": [
    "\"\"\"\n",
    "we can also thorw this an array to do a comparative analysis across different combinations of interest rates, payments, and amounts... send in a grid format\n",
    "\"\"\"\n",
    "\n",
    "npf.nper(*(np.ogrid[0.07/12: 0.08/12: 0.01/12, \n",
    "                    -150   :  -99   : 50     ,\n",
    "                    8000   :  9001  : 1000]))"
   ]
  },
  {
   "cell_type": "markdown",
   "metadata": {},
   "source": [
    "## Net Present Value\n",
    "Net present value is the difference betwen the present value of cash inflows and the present value of cash outflows over a period of time. NPV is used in capital budgeting an dinvestment planning to analyze the profitability of a projected investment of project.... re: use watson studio for this...\n",
    "\n",
    "- Net present value, or NPV, is used to calculate the total value today of a future stream of payments.\n",
    "\n",
    "- If the NPV of a project or investment is positive, it means that the discounted present value of all future cash flows related to that project or investment will be positive, and therefore attractive.\n",
    "\n",
    "- To calculate NPV you need to estimate future cash flows for each period and determine the correct discount rate. \n",
    "\n",
    "Warning from our sponsor (numpy): npv considers a series of cashflows starting in the present (t = 0). NPV can also be defined with a series of future cashflows, paid at the end, rather than the start, of each period. If future cashflows are used, the first cashflow values must be zeroed and added to the net present value of the future cashflows. This is demonstrated in the examples."
   ]
  },
  {
   "cell_type": "markdown",
   "metadata": {},
   "source": [
    "We are going to define two variables in order to calculate the net present value:\n",
    "\n",
    "    (1) The discount rate.\n",
    "\n",
    "    (2) The values of the time series of cash flows. The (fixed) time interval between cash flow “events” must be the same as that for which rate is given (i.e., if rate is\n",
    "        per year, then precisely a year is understood to elapse between each cash flow event). By convention, investments or “deposits” are negative, income or “withdrawals\n",
    "        are positive; values must begin with the initial investment, thus values (position 0) will typically be negative.\n",
    "\n",
    "**WARNING**: npv considers a series of cashflows starting in the present (t = 0). NPV can also be defined with a series of future cashflows, paid at the end, rather than the start, of each period. If future cashflows are used, the first cashflow values (position 0) must be zeroed and added to the net present value of the future cashflows. This is demonstrated in the examples."
   ]
  },
  {
   "cell_type": "code",
   "execution_count": 1,
   "metadata": {},
   "outputs": [
    {
     "data": {
      "text/plain": [
       "3065.22267"
      ]
     },
     "execution_count": 1,
     "metadata": {},
     "output_type": "execute_result"
    }
   ],
   "source": [
    "# ------------------------------- #\n",
    "# imports \n",
    "# ------------------------------- #\n",
    "\n",
    "import numpy as np\n",
    "import numpy_financial as npf\n",
    "\n",
    "\"\"\"\n",
    "Consider a potential project with an initial investment of $40 000 and projected cashflows of $5 000, $8 000, $12 000 and $30 000 at the end of each period discounted at a rate of 8% per period. To find the project’s net present value:\n",
    "\"\"\"\n",
    "\n",
    "rate, cashflows = 0.08, [-40_000, 5_000, 8_000, 12_000, 30_000]\n",
    "npf.npv(rate, cashflows).round(5)"
   ]
  },
  {
   "cell_type": "code",
   "execution_count": 2,
   "metadata": {},
   "outputs": [
    {
     "data": {
      "text/plain": [
       "3065.22267"
      ]
     },
     "execution_count": 2,
     "metadata": {},
     "output_type": "execute_result"
    }
   ],
   "source": [
    "\"\"\"\n",
    "It may be preferable to split the projected cashflow into an initial investment and expected future cashflows. In this case, the value of the initial cashflow is zero and the initial investment is later added to the future cashflows net present value:\n",
    "\"\"\"\n",
    "\n",
    "initial_cashflow = cashflows[0]\n",
    "cashflows[0] = 0\n",
    "np.round(npf.npv(rate, cashflows) + initial_cashflow, 5)"
   ]
  },
  {
   "cell_type": "markdown",
   "metadata": {},
   "source": [
    "Given:\n",
    "a present value, pv (e.g., an amount borrowed)\n",
    "\n",
    "a future value, fv (e.g., 0)\n",
    "\n",
    "an interest rate compounded once per period, of which there are\n",
    "\n",
    "nper total\n",
    "\n",
    "and (optional) specification of whether payment is made at the beginning (when = {‘begin’, 1}) or the end (when = {‘end’, 0}) of each period\n",
    "\n",
    "Return:\n",
    "the (fixed) periodic payment."
   ]
  }
 ],
 "metadata": {
  "kernelspec": {
   "display_name": "Python 3.6.8  ('env': venv)",
   "name": "pythonjvsc74a57bd0bdbf6299f768b1cfd36751a62154d74cad2ba7d1c17c15600fdf1b9c1e458aa5"
  },
  "language_info": {
   "codemirror_mode": {
    "name": "ipython",
    "version": 3
   },
   "file_extension": ".py",
   "mimetype": "text/x-python",
   "name": "python",
   "nbconvert_exporter": "python",
   "pygments_lexer": "ipython3",
   "version": "3.6.8"
  },
  "metadata": {
   "interpreter": {
    "hash": "bdbf6299f768b1cfd36751a62154d74cad2ba7d1c17c15600fdf1b9c1e458aa5"
   }
  }
 },
 "nbformat": 4,
 "nbformat_minor": 2
}
