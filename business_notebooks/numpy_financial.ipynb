{
 "metadata": {
  "language_info": {
   "codemirror_mode": {
    "name": "ipython",
    "version": 3
   },
   "file_extension": ".py",
   "mimetype": "text/x-python",
   "name": "python",
   "nbconvert_exporter": "python",
   "pygments_lexer": "ipython3",
   "version": "3.6.8"
  },
  "orig_nbformat": 2,
  "kernelspec": {
   "name": "pythonjvsc74a57bd0bdbf6299f768b1cfd36751a62154d74cad2ba7d1c17c15600fdf1b9c1e458aa5",
   "display_name": "Python 3.6.8  ('env': venv)"
  },
  "metadata": {
   "interpreter": {
    "hash": "bdbf6299f768b1cfd36751a62154d74cad2ba7d1c17c15600fdf1b9c1e458aa5"
   }
  }
 },
 "nbformat": 4,
 "nbformat_minor": 2,
 "cells": [
  {
   "source": [
    "# Numpy Financial\n",
    "*Outlines a sleek python package for conducting financial analysis*\n",
    "[numpy-financial 1.0.0](https://www.example.com)"
   ],
   "cell_type": "markdown",
   "metadata": {}
  },
  {
   "cell_type": "code",
   "execution_count": 1,
   "metadata": {},
   "outputs": [],
   "source": [
    "# lets us run the notebook from within our django project\n",
    "import django_initializer"
   ]
  },
  {
   "source": [
    "## Future value\n",
    "This first function will allow us to compute the future value for a given asset. This is normally used by investors and financial planners to estimate how much an investment made today will be worth in the future. Using and learning python is great because I am going to show you why investing your time in learning python is way more important than trying to hack all of your processes together in microsoft office products."
   ],
   "cell_type": "markdown",
   "metadata": {}
  },
  {
   "source": [
    "import numpy as np\n",
    "import numpy_financial as npf"
   ],
   "cell_type": "code",
   "metadata": {},
   "execution_count": 4,
   "outputs": []
  },
  {
   "source": [
    "What is the future value after 10 years of saving $100 now, with an additional monthly savings of $100? Assume the interest rate is 5% (annually) compounded monthly."
   ],
   "cell_type": "markdown",
   "metadata": {}
  },
  {
   "cell_type": "code",
   "execution_count": 5,
   "metadata": {},
   "outputs": [
    {
     "output_type": "execute_result",
     "data": {
      "text/plain": [
       "15692.928894335748"
      ]
     },
     "metadata": {},
     "execution_count": 5
    }
   ],
   "source": [
    "npf.fv(0.05/12, 10*12, -100, -100)"
   ]
  },
  {
   "source": [
    "By convention, the negative sign represents cash flow out (i.e. money not available today). Thus, saving $100 a month at 5% annual interest leads to $15,692.93 available to spend in 10 years.\n",
    "\n",
    "Let’s compare different interest rates from the example above. We can pass the function for future value an array that will calculate each value we give it and then return back an array with the answer for each value that was fed. "
   ],
   "cell_type": "markdown",
   "metadata": {}
  },
  {
   "cell_type": "code",
   "execution_count": 7,
   "metadata": {},
   "outputs": [
    {
     "output_type": "execute_result",
     "data": {
      "text/plain": [
       "array([15692.92889434, 16569.87435405, 17509.44688102])"
      ]
     },
     "metadata": {},
     "execution_count": 7
    }
   ],
   "source": [
    "\"\"\"\n",
    "Here we are comparing what the future value is for 5%, 6%, or 7% interest rates on the same savings amount of $100 down, then an additional $100 per month invested.\n",
    "\"\"\"\n",
    "a = np.array((0.05, 0.06, 0.07))/12\n",
    "npf.fv(a, 10*12, -100, -100)"
   ]
  },
  {
   "source": [
    "Future value (FV) is the value of a current asset at some point in the future based on an assumed growth rate.\n",
    "Investors are able to reasonably assume an investment's profit using the future value (FV) calculation.\n",
    "Determining the future value (FV) of a market investment can be challenging because of the market's volatility.\n",
    "There are two ways of calculating the future value (FV) of an asset: FV using simple interest and FV using compound interest.\n",
    "\n",
    "​\t  \n",
    "FV=I×(1+(R×T))\n",
    "\n",
    "WHERE:\n",
    "\n",
    "I = Investment amount\n",
    "R = Interest rate\n",
    "T = Number of years\n",
    "\n",
    "FV=I×(1+R^T)\n",
    "\n",
    "WHERE:\n",
    "\n",
    "I = Investment amount\n",
    "R = Interest rate\n",
    "T = Number of years\n",
    "​\t"
   ],
   "cell_type": "markdown",
   "metadata": {}
  },
  {
   "source": [
    "## Interest of a given payment\n",
    "\n",
    "This allows us to calculate amortization and generate a scheduler for paying off a specific loan.\n"
   ],
   "cell_type": "markdown",
   "metadata": {}
  },
  {
   "cell_type": "code",
   "execution_count": 8,
   "metadata": {},
   "outputs": [
    {
     "output_type": "execute_result",
     "data": {
      "text/plain": [
       "True"
      ]
     },
     "metadata": {},
     "execution_count": 8
    }
   ],
   "source": [
    "# ------------------------------- #\n",
    "# imports \n",
    "# ------------------------------- #\n",
    "\n",
    "import numpy as np\n",
    "import numpy_financial as npf\n",
    "\n",
    "\"\"\"\n",
    "question: what is the amortization schedule for a 1 year loan of $2500 at 8.24% interest per year compunded?\n",
    "\"\"\"\n",
    "\n",
    "# setting a principal payment\n",
    "principal = 2500.00\n",
    "\n",
    "# setting a period (+ 1 because in finance arrays index at 1)\n",
    "per = np.arange(1*12) + 1\n",
    "\n",
    "# ipmt and ppmt are types of payment, interest vs principal\n",
    "ipmt = npf.ipmt(0.0824/12, per, 1*12, principal)\n",
    "ppmt = npf.ppmt(0.0824/12, per, 1*12, principal)\n",
    "\n",
    "# each element of the sum of ipmt and ppmt equal the total payment\n",
    "pmt = npf.pmt(0.0824/12, 1*12, principal)\n",
    "np.allclose(ipmt + ppmt, pmt)"
   ]
  },
  {
   "cell_type": "code",
   "execution_count": 9,
   "metadata": {},
   "outputs": [
    {
     "output_type": "stream",
     "name": "stdout",
     "text": [
      " 1  -200.58   -17.17  2299.42\n 2  -201.96   -15.79  2097.46\n 3  -203.35   -14.40  1894.11\n 4  -204.74   -13.01  1689.37\n 5  -206.15   -11.60  1483.22\n 6  -207.56   -10.18  1275.66\n 7  -208.99    -8.76  1066.67\n 8  -210.42    -7.32   856.25\n 9  -211.87    -5.88   644.38\n10  -213.32    -4.42   431.05\n11  -214.79    -2.96   216.26\n12  -216.26    -1.49    -0.00\n"
     ]
    }
   ],
   "source": [
    "# string formatting for displaying an amortization schedule\n",
    "fmt = fmt = '{0:2d} {1:8.2f} {2:8.2f} {3:8.2f}'\n",
    "for payment in per:\n",
    "    index = payment - 1\n",
    "    principal = principal + ppmt[index]\n",
    "    print(fmt.format(payment, ppmt[index], ipmt[index], principal))"
   ]
  },
  {
   "cell_type": "code",
   "execution_count": 10,
   "metadata": {},
   "outputs": [
    {
     "output_type": "execute_result",
     "data": {
      "text/plain": [
       "-112.98"
      ]
     },
     "metadata": {},
     "execution_count": 10
    }
   ],
   "source": [
    "# carve off just the interest payments\n",
    "interestpd = np.sum(ipmt)\n",
    "np.round(interestpd, 2)"
   ]
  },
  {
   "cell_type": "code",
   "execution_count": null,
   "metadata": {},
   "outputs": [],
   "source": []
  }
 ]
}