{
 "metadata": {
  "language_info": {
   "codemirror_mode": {
    "name": "ipython",
    "version": 3
   },
   "file_extension": ".py",
   "mimetype": "text/x-python",
   "name": "python",
   "nbconvert_exporter": "python",
   "pygments_lexer": "ipython3",
   "version": 3
  },
  "orig_nbformat": 2
 },
 "nbformat": 4,
 "nbformat_minor": 2,
 "cells": [
  {
   "source": [
    "# Logging in...\n",
    "\n",
    "https://aws-login.am.lilly.com/awsauth/awslogin.php\n",
    "\n",
    "will require multi-factor auth...\n",
    "\n",
    "Once we are in, reference: https://github.com/EliLillyCo/lilly_aws_auth\n",
    "\n"
   ],
   "cell_type": "markdown",
   "metadata": {}
  }
 ]
}