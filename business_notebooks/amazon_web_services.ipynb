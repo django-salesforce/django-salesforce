{
 "metadata": {
  "language_info": {
   "codemirror_mode": {
    "name": "ipython",
    "version": 3
   },
   "file_extension": ".py",
   "mimetype": "text/x-python",
   "name": "python",
   "nbconvert_exporter": "python",
   "pygments_lexer": "ipython3",
   "version": "3.6.8"
  },
  "orig_nbformat": 2,
  "kernelspec": {
   "name": "pythonjvsc74a57bd0bdbf6299f768b1cfd36751a62154d74cad2ba7d1c17c15600fdf1b9c1e458aa5",
   "display_name": "Python 3.6.8  ('env': venv)"
  },
  "metadata": {
   "interpreter": {
    "hash": "bdbf6299f768b1cfd36751a62154d74cad2ba7d1c17c15600fdf1b9c1e458aa5"
   }
  }
 },
 "nbformat": 4,
 "nbformat_minor": 2,
 "cells": [
  {
   "source": [
    "# Amazon Web Services\n",
    "\n",
    "## Reference Lilly docs:\n",
    "* [Lilly Developers](https://lillydev.com/aws/aws%20overview#aws-access-management)\n",
    "* [AWS Login](https://aws-login.am.lilly.com/awsauth/awslogin.php)\n",
    "* [Command Line Interface](https://github.com/EliLillyCo/lilly_aws_auth)\n",
    "\n",
    "This will allow us to get set up at lilly with an AWS account. \n",
    "\n",
    "![](https://www.mbinfosoft.com/wp-content/uploads/2018/09/img-amazon.jpg)\n",
    "\n"
   ],
   "cell_type": "markdown",
   "metadata": {}
  },
  {
   "source": [
    "# Log-in Cadence for AWS:\n",
    "\n",
    "* Access your cyber-ark vault * [CyberArk Password Security](https://pvwa.lilly.com/PasswordVault/ObjectDetails.aspx?Data=QzI2NjEzOS1QUklWLUFDQ1ReQF5Sb290XkBeTGx5UFBBcHJkLUFNLkxJTExZLkNPTS1DMjY2MTM5LUNBXkBeMF5AXkZhbHNlXkBeRmFsc2VeQF5eQF5CYWNrVVJMPWh0dHBzOi8vcHZ3YS5saWxseS5jb20vUGFzc3dvcmRWYXVsdC9teWFjY291bnRzLmFzcHg%2fRGF0YT1Ya0JlWGtCZU1GNUFYbEpsWTJWdWRHeDVYa0JlUVdOamIzVnVkRlpwWlhkZVFGNHdYa0JlUm1Gc2MyVmVRRjVtTUdabVpqUTBOR0V4WWprME5tRXlPRFUzTVdSbU1qRmpOMlkxTkdVMlpGNUFYa0poWTJ0VlVrdzlUWE5uUlhKeVBVMXpaMGx1Wm04OU1zZ0Vycj1Nc2dJbmZvPQ%3d%3d \"This is your vault\") \n",
    "&nbsp;\n",
    "\n",
    "* Select your AWS account using Lilly PHP web-interface * [Lilly AWS Multi-Factor Authentication](https://aws-login.am.lilly.com/awsauth/awslogin.php)\n",
    "&nbsp;\n",
    "\n",
    "* After using multifactor authentication, your account will work * [Console Homepage](https://console.aws.amazon.com/console/home?region=us-east-1)\n",
    "&nbsp;\n",
    "\n",
    "* Configure your command line interface with Lilly's auth script * [GitHub](https://github.com/EliLillyCo/lilly_aws_auth)\n",
    "&nbsp;\n",
    "\n",
    "* Open your virtual environment and run: lilly-aws-auth login --entry-url https://aws-login.am.lilly.com\n",
    "&nbsp;\n",
    "\n",
    "* We are using account #224 for our project\n",
    "\n",
    "---------------------------------------------------------------------------------------------------------------------------------------\n",
    "\n",
    "Your AWS keys for dev-igw-nodx-dh-gcsp-transcribe-poc:aws_gcsp_poc have been\n",
    "saved in 'C:\\Users\\c266139\\.aws\\credentials' under the 'saml' profile. Your AWS\n",
    "keys will expire at 2021-05-06 21:21:55+00:00. At any time, you may re-run this\n",
    "script to refresh your AWS keys. To use AWS CLI with your AWS keys, use the '--\n",
    "profile' option, e.g. 'aws --profile saml ec2 describe-instances' or, to always\n",
    "default to 'saml' profile, set the environment variable AWS_PROFILE=saml"
   ],
   "cell_type": "markdown",
   "metadata": {}
  },
  {
   "cell_type": "code",
   "execution_count": 10,
   "metadata": {},
   "outputs": [],
   "source": [
    "# import boto3 client from AWS\n",
    "import boto3\n",
    "\n",
    "s3 = boto3.resource('s3')"
   ]
  },
  {
   "cell_type": "code",
   "execution_count": 12,
   "metadata": {},
   "outputs": [
    {
     "output_type": "stream",
     "name": "stdout",
     "text": [
      "comprehend-examples\nnlpdemonstration\n"
     ]
    }
   ],
   "source": [
    "for bucket in s3.buckets.all():\n",
    "    print(bucket.name)"
   ]
  },
  {
   "cell_type": "code",
   "execution_count": null,
   "metadata": {},
   "outputs": [],
   "source": []
  }
 ]
}