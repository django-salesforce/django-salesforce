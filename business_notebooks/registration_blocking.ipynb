{
 "cells": [
  {
   "cell_type": "markdown",
   "metadata": {},
   "source": [
    "# Registration Block-List\n",
    "## Copay Gateway\n",
    "\n",
    "This [web-app](https://enrollment.emgality.com/admin/block-warn) was created to add phone numbers and email addresses that should be blocked from registering for a copay card. Lilly offers incentives to patients that are a high financial risk to the company. The incentives allow patients to access their medication at faster rates.\n",
    "\n",
    "![](https://intelligencepharma.files.wordpress.com/2019/06/simple-start.png?w=350&h=200&crop=1)\n",
    "\n",
    "It was noted that the expected registration flow for the emgality program was being exploited by pharmacies. Pharmacies were downloading and activating the card on behalf of the patient, which is against the rules!\n",
    "\n",
    "The username for the [web-app](https://enrollment.emgality.com/admin/block-warn) is 'Admin', reach out to me for the password if you ever want to log in. "
   ]
  },
  {
   "cell_type": "markdown",
   "metadata": {},
   "source": [
    "## Log in to PCP"
   ]
  },
  {
   "cell_type": "code",
   "execution_count": 23,
   "metadata": {},
   "outputs": [
    {
     "name": "stdout",
     "output_type": "stream",
     "text": [
      "<simple_salesforce.api.Salesforce object at 0x000001951238F7F0>\n"
     ]
    }
   ],
   "source": [
    "# abstracted utility functions are stored in a different file\n",
    "import pcp_utility as pcp\n",
    "\n",
    "# connecting to prod\n",
    "sf = pcp.connect_to_prod(True)\n",
    "print(sf)"
   ]
  },
  {
   "cell_type": "markdown",
   "metadata": {},
   "source": [
    "# Registration Data\n",
    "\"Registration\" is the data object in which we are storing information that is passed in from the [savings and support gateway](https://enrollment.emgality.com/copay/emgality/contact-info).\n",
    "\n",
    "## Data caching\n",
    "I am going to pull all historical registration data. From there I am going to save the data as a JSON file so that I do not need to query salesforce every time i update the block list. I can just query new registrations for the day and add them to the JSON structure."
   ]
  },
  {
   "cell_type": "code",
   "execution_count": 29,
   "metadata": {},
   "outputs": [],
   "source": [
    "\"\"\"\n",
    "Yes, this design is garbage, build a django app to depreciate existing automation between the copay gateway and the PCP. The gateway code can be found here: https://github.com/EliLillyCo/lusa-enrollment-services \n",
    "\n",
    "It is exclusively javascript. Building a Django app allows us to build the Javascript ontop of a layer of python code. The python code will efficiently process the data and perform procedures, such as blocking an email/phone address.\n",
    "\"\"\"\n",
    "\n",
    "# we only need a few fields for determining if a phone or email should be added\n",
    "soql = \"SELECT Name, Email__c, Phone__c, Createddate, DTPC_First_Name__c, DTPC_Last_Name__c, DTPC_Program_Registration__c FROM DTPC_Registration__c WHERE Registration_Type__c = 'Copay / Saving Card'\"\n",
    "\n",
    "registrations = pcp.query(sf, soql)\n",
    "\n",
    "with open('support_structures/registration_blocking.json', 'w') as fp:\n",
    "    json.dump(registrations, fp)"
   ]
  },
  {
   "cell_type": "code",
   "execution_count": 31,
   "metadata": {},
   "outputs": [
    {
     "name": "stdout",
     "output_type": "stream",
     "text": [
      "345956\n"
     ]
    }
   ],
   "source": [
    "# load from json\n",
    "import json\n",
    "\n",
    "with open('support_structures/registration_blocking.json', 'r') as fp:\n",
    "    registrations = json.load(fp)\n",
    "\n",
    "print(len(registrations))"
   ]
  },
  {
   "cell_type": "markdown",
   "metadata": {},
   "source": [
    "## Parsing and cleaning data\n",
    "We are going to look at each email and phone address that is collected from the registrations and try to determine whether or not we should block it.\n",
    "\n",
    "To do this we will create a dictionary with the phone as the key and a dictionary with the email as a key. The value for each key will be the registration data.\n",
    "\n",
    "We look at each registration record and add it into the email and phone dictionaries. If a specific email address or phone number is already in the map, the registration will be added to a list."
   ]
  },
  {
   "cell_type": "code",
   "execution_count": 34,
   "metadata": {},
   "outputs": [],
   "source": [
    "def create_maps(registrations):\n",
    "    email_map = {}\n",
    "    phone_map = {}\n",
    "    for registration in registrations:\n",
    "        email = registration['Email__c']\n",
    "        phone = registration['Phone__c']\n",
    "        if email in email_map.keys():\n",
    "            email_map[email].append(registration)\n",
    "        else:\n",
    "            email_map[email] = [registration]\n",
    "        if phone in phone_map.keys():\n",
    "            phone_map[phone].append(registration)\n",
    "        else:\n",
    "            phone_map[phone] = [registration]\n",
    "    # return both maps\n",
    "    return [email_map, phone_map]\n",
    "\n",
    "# setting a value to use for formatted data\n",
    "registration_maps = create_maps(registrations)"
   ]
  },
  {
   "cell_type": "markdown",
   "metadata": {},
   "source": [
    "## Defining the block list\n",
    "This chunk of code will determine which phones and emails need to be blocked. The first function will create the blocklist and it calls a support function that analyzes the names associated with each email and phone number.\n",
    "\n",
    "The data was formatted in the last function. These two functions will parse through the formatted data and determine which emails and phones need to be blocked from registrering."
   ]
  },
  {
   "cell_type": "code",
   "execution_count": 39,
   "metadata": {},
   "outputs": [
    {
     "name": "stderr",
     "output_type": "stream",
     "text": [
      "c:\\Users\\c266139\\Documents\\web_services\\integration_engine\\django-salesforce\\env\\lib\\site-packages\\fuzzywuzzy\\fuzz.py:11: UserWarning: Using slow pure-python SequenceMatcher. Install python-Levenshtein to remove this warning\n",
      "  warnings.warn('Using slow pure-python SequenceMatcher. Install python-Levenshtein to remove this warning')\n"
     ]
    }
   ],
   "source": [
    "# importing packages\n",
    "import itertools\n",
    "from fuzzywuzzy import fuzz\n",
    "\n",
    "# sets up the block list by analyzing names associated with each email/phone\n",
    "def create_block_list(maps):\n",
    "    \"\"\" \"\"\"\n",
    "    email_map = maps[0]\n",
    "    phone_map = maps[1]\n",
    "    \n",
    "    block_email = {}\n",
    "    block_phone = {}\n",
    "    \n",
    "    for email in email_map:\n",
    "        names = []\n",
    "        for registration in email_map[email]:\n",
    "            name = registration['DTPC_First_Name__c'] + registration['DTPC_Last_Name__c']\n",
    "            names.append(name.lower())\n",
    "\n",
    "        if len(set(names)) > 1:\n",
    "            block_email[email] = set(names)\n",
    "\n",
    "    \n",
    "    for phone in phone_map:\n",
    "        names = []\n",
    "        for registration in phone_map[phone]:\n",
    "            name = registration['DTPC_First_Name__c'] + registration['DTPC_Last_Name__c']\n",
    "            names.append(name.lower())\n",
    "        if len(set(names)) > 1:\n",
    "            block_phone[phone] = set(names)\n",
    "    \n",
    "    # we call the function below (both block lists need the same cleaining)\n",
    "    blocked_emails = clean_block_list(block_email)\n",
    "    blocked_phones = clean_block_list(block_phone)\n",
    "\n",
    "    # our emails and phones that need to be blocked!\n",
    "    return [blocked_emails, blocked_phones]\n",
    "\n",
    "\n",
    "def clean_block_list(block_list):\n",
    "    clean_block_list = {}\n",
    "    # we are able to add exceptions to this list so that these are not blocked\n",
    "    email_exceptions = ['david.reed@lilly.com', 'umurthy@lilly.com', 'birge_monty_donovan@network.lilly.com',\n",
    "                        'mackert_preston_reed@lilly.com', 'fields_megan_christine@lilly.com',\n",
    "                        'telford_dylan_colin@lilly.com', 'harris_akiya_charene@lilly.com']\n",
    "    phone_exceptions = ['219-455-7477', '317-626-9286', '317-374-8025']\n",
    "    for entry in block_list:\n",
    "        if entry not in email_exceptions or entry not in phone_exceptions:\n",
    "            name_list = block_list[entry]\n",
    "            ratios = []\n",
    "            for name1, name2 in itertools.combinations(name_list, 2):\n",
    "                ratio = fuzz.ratio(name1, name2)\n",
    "                ratios.append(ratio)\n",
    "            min_ratio = ratios[0]\n",
    "            for ratio in ratios:\n",
    "                if ratio < min_ratio:\n",
    "                    min_ratio = ratio\n",
    "            if min_ratio < 80:\n",
    "                clean_block_list[entry] = block_list[entry]\n",
    "\n",
    "    return clean_block_list\n"
   ]
  },
  {
   "cell_type": "code",
   "execution_count": 47,
   "metadata": {},
   "outputs": [
    {
     "name": "stdout",
     "output_type": "stream",
     "text": [
      "4879\n"
     ]
    }
   ],
   "source": [
    "# setting the variables for the block lists\n",
    "block_lists = create_block_list(registration_maps)\n",
    "blocked_emails = block_lists[0].keys()\n",
    "blocked_phones = block_lists[1].keys()\n",
    "\n",
    "print(len(blocked_emails))"
   ]
  },
  {
   "cell_type": "markdown",
   "metadata": {},
   "source": [
    "## I/O functions \n",
    "Gives us the ability to read and write files that maintain our block lists. We only want to add new phone numbers and email addresses to our block list every time we update it. For this reason, we are taking the set value of each newly formed block list and subtracting the set of all logged values.\n",
    "\n",
    "The result is a single list of only the emails and phones that were found in the new query and are not logged on the web app."
   ]
  },
  {
   "cell_type": "code",
   "execution_count": 49,
   "metadata": {},
   "outputs": [],
   "source": [
    "def read_master_list(filename):\n",
    "    file = open(filename, 'r')\n",
    "    emails = file.read().splitlines()\n",
    "    file.close()\n",
    "    return emails\n",
    "\n",
    "\n",
    "def write_master(filename, block_list):\n",
    "    with open(filename, 'w') as file:\n",
    "        for entry in block_list:\n",
    "            file.write(\"%s\\n\" % entry)"
   ]
  },
  {
   "cell_type": "code",
   "execution_count": 50,
   "metadata": {},
   "outputs": [
    {
     "name": "stdout",
     "output_type": "stream",
     "text": [
      "221\n",
      "236\n"
     ]
    }
   ],
   "source": [
    "email_list = read_master_list('support_structures/block_lists/email_list.txt')\n",
    "phone_list = read_master_list('support_structures/block_lists/phone_list.txt')\n",
    "\n",
    "new_emails = set(blocked_emails) - set(email_list)\n",
    "new_phones = set(blocked_phones) - set(phone_list)\n",
    "\n",
    "print(len(new_emails))\n",
    "print(len(new_phones))"
   ]
  },
  {
   "cell_type": "markdown",
   "metadata": {},
   "source": [
    "# Accessing the web application\n",
    "These functions will actually access the web app that can be found at: https://enrollment.emgality.com/admin/block-warn/emails and https://enrollment.emgality.com/admin/block-warn/phone-numbers\n",
    "\n",
    "We will define the functions in these code chunks and then call them to analyze our new phones and emails that need to be blocked."
   ]
  },
  {
   "cell_type": "code",
   "execution_count": 57,
   "metadata": {},
   "outputs": [],
   "source": [
    "# we will use web-based magic to access the website that we built\n",
    "import requests\n",
    "import time\n",
    "import random\n",
    "\n",
    "# setting up the functions\n",
    "def block_emails_on_portal(emails_to_block, proxies):\n",
    "    proxies = {\n",
    "        'http': 'http://foo:bar@us_proxy_indy.xh1.lilly.com:9000',\n",
    "        'https': 'http://foo:bar@us_proxy_indy.xh1.lilly.com:9000'\n",
    "    }\n",
    "\n",
    "    # Fill in your details here to be posted to the login form.\n",
    "    payload = {\n",
    "        'username': os.environ.get('BLOCK_USER'),\n",
    "        'password': os.environ.get('BLOCK_PASSWORD')\n",
    "    }\n",
    "\n",
    "    if proxies:\n",
    "        with requests.Session() as session:\n",
    "            login_response = session.post('https://enrollment.emgality.com/api/v2/admin/login', data=payload,proxies=proxies)\n",
    "            \n",
    "            response_dict = eval(login_response.text)\n",
    "            cookies = {'admin': response_dict['token']}\n",
    "\n",
    "            headers = {\n",
    "                'referer': \"https://enrollment.emgality.com/admin/block-warn/emails\", 'user_agent': \"Mozilla/5.0 (Windows NT 6.1; Win64; x64) AppleWebKit/537.36 (KHTML, like Gecko) Chrome/76.0.3809.100 Safari/537.36\"\n",
    "            }\n",
    "\n",
    "            for email in emails_to_block:\n",
    "                time.sleep(random.randrange(0, 5))\n",
    "                params = {'email': email, 'level': \"block\"}\n",
    "                r = session.post('https://enrollment.emgality.com/api/v2/admin/block-warn/emails', data=params, headers=headers, proxies=proxies, cookies=cookies)\n",
    "    \n",
    "    else:\n",
    "        with requests.Session() as session:\n",
    "            login_response = session.post('https://enrollment.emgality.com/api/v2/admin/login', data=payload)\n",
    "            \n",
    "            response_dict = eval(login_response.text)\n",
    "            cookies = {'admin': response_dict['token']}\n",
    "\n",
    "            headers = {\n",
    "                'referer': \"https://enrollment.emgality.com/admin/block-warn/emails\", 'user_agent': \"Mozilla/5.0 (Windows NT 6.1; Win64; x64) AppleWebKit/537.36 (KHTML, like Gecko) Chrome/76.0.3809.100 Safari/537.36\"\n",
    "            }\n",
    "\n",
    "            for email in emails_to_block:\n",
    "                time.sleep(random.randrange(0, 5))\n",
    "                params = {'email': email, 'level': \"block\"}\n",
    "                r = session.post('https://enrollment.emgality.com/api/v2/admin/block-warn/emails', data=params, headers=headers, cookies=cookies)"
   ]
  },
  {
   "cell_type": "code",
   "execution_count": 45,
   "metadata": {},
   "outputs": [],
   "source": [
    "def block_phones_on_portal(numbers_to_block, proxies):\n",
    "    proxies = {\n",
    "        'http': 'http://foo:bar@us_proxy_indy.xh1.lilly.com:9000',\n",
    "        'https': 'http://foo:bar@us_proxy_indy.xh1.lilly.com:9000'\n",
    "    }\n",
    "\n",
    "    # Fill in your details here to be posted to the login form.\n",
    "    payload = {\n",
    "        'username': os.environ.get('BLOCK_USER'),\n",
    "        'password': os.environ.get('BLOCK_PASSWORD')\n",
    "    }\n",
    "\n",
    "    if proxies:\n",
    "        # Use 'with' to ensure the session context is closed after use.\n",
    "        with requests.Session() as session:\n",
    "            login_response = session.post('https://enrollment.emgality.com/api/v2/admin/login', data=payload, proxies=proxies)\n",
    "            \n",
    "            response_dict = eval(login_response.text)\n",
    "            cookies = {'admin': response_dict['token']}\n",
    "\n",
    "            headers = {\n",
    "                'referer': \"https://enrollment.emgality.com/admin/block-warn/emails\", 'user_agent': \"Mozilla/5.0 (Windows NT 6.1; Win64; x64) AppleWebKit/537.36 (KHTML, like Gecko) Chrome/76.0.3809.100 Safari/537.36\"\n",
    "            }\n",
    "\n",
    "            for phone_number in numbers_to_block:\n",
    "                time.sleep(random.randrange(0, 5))\n",
    "                params = {'phoneNumber': phone_number, 'level': \"block\"}\n",
    "                r = session.post('https://enrollment.emgality.com/api/v2/admin/block-warn/phone-numbers', data=params, headers=headers, proxies=proxies, cookies=cookies)\n",
    "    else:\n",
    "        # Use 'with' to ensure the session context is closed after use.\n",
    "        with requests.Session() as session:\n",
    "            login_response = session.post('https://enrollment.emgality.com/api/v2/admin/login', data=payload)\n",
    "            \n",
    "            response_dict = eval(login_response.text)\n",
    "            cookies = {'admin': response_dict['token']}\n",
    "\n",
    "            headers = {\n",
    "                'referer': \"https://enrollment.emgality.com/admin/block-warn/emails\", 'user_agent': \"Mozilla/5.0 (Windows NT 6.1; Win64; x64) AppleWebKit/537.36 (KHTML, like Gecko) Chrome/76.0.3809.100 Safari/537.36\"\n",
    "            }\n",
    "\n",
    "            for phone_number in numbers_to_block:\n",
    "                time.sleep(random.randrange(0, 5))\n",
    "                params = {'phoneNumber': phone_number, 'level': \"block\"}\n",
    "                r = session.post('https://enrollment.emgality.com/api/v2/admin/block-warn/phone-numbers', data=params, headers=headers, cookies=cookies)"
   ]
  },
  {
   "cell_type": "markdown",
   "metadata": {},
   "source": [
    "# Adding our new emails/phones to the LIST!\n",
    "This will call our functions to add all of the new emails and phones to the block list."
   ]
  },
  {
   "cell_type": "code",
   "execution_count": 61,
   "metadata": {},
   "outputs": [
    {
     "name": "stdout",
     "output_type": "stream",
     "text": [
      "accessing web portal and updating the email block list...\n",
      "accessing web portal and updating the phone block list...\n"
     ]
    }
   ],
   "source": [
    "if len(new_emails) > 0:\n",
    "    print(\"accessing web portal and updating the email block list...\")\n",
    "    block_emails_on_portal(new_emails, True)\n",
    "\n",
    "if len(new_phones) > 0:\n",
    "    print(\"accessing web portal and updating the phone block list...\")\n",
    "    block_phones_on_portal(new_phones, True)\n",
    "\n",
    "write_master('support_structures/block_lists/email_list.txt', blocked_emails)\n",
    "write_master('support_structures/block_lists/phone_list.txt', blocked_phones)"
   ]
  },
  {
   "cell_type": "code",
   "execution_count": null,
   "metadata": {},
   "outputs": [],
   "source": []
  }
 ],
 "metadata": {
  "kernelspec": {
   "display_name": "Django Shell-Plus",
   "language": "python",
   "name": "django_extensions"
  },
  "language_info": {
   "codemirror_mode": {
    "name": "ipython",
    "version": 3
   },
   "file_extension": ".py",
   "mimetype": "text/x-python",
   "name": "python",
   "nbconvert_exporter": "python",
   "pygments_lexer": "ipython3",
   "version": "3.6.8"
  }
 },
 "nbformat": 4,
 "nbformat_minor": 2
}
